{
 "cells": [
  {
   "cell_type": "code",
   "execution_count": 2,
   "metadata": {},
   "outputs": [
    {
     "name": "stdout",
     "output_type": "stream",
     "text": [
      "Populating the interactive namespace from numpy and matplotlib\n"
     ]
    }
   ],
   "source": [
    "import math\n",
    "from statsmodels.stats.power import TTestIndPower\n",
    "import xlrd\n",
    "import csv\n",
    "import os\n",
    "import os.path\n",
    "import datetime as dt\n",
    "import pandas as pd\n",
    "import numpy as np\n",
    "import xlsxwriter\n",
    "from tabulate import tabulate\n",
    "import matplotlib\n",
    "import matplotlib.pyplot as plt\n",
    "from matplotlib import pylab\n",
    "from statsmodels.distributions.empirical_distribution import ECDF\n",
    "import scipy.stats as st\n",
    "import statistics\n",
    "from pandas import DataFrame as df\n",
    "import seaborn as sn\n",
    "%pylab inline"
   ]
  },
  {
   "cell_type": "markdown",
   "metadata": {},
   "source": [
    "### Считываем файлы с тикерами"
   ]
  },
  {
   "cell_type": "code",
   "execution_count": 3,
   "metadata": {},
   "outputs": [
    {
     "name": "stdout",
     "output_type": "stream",
     "text": [
      "Wall time: 321 ms\n"
     ]
    }
   ],
   "source": [
    "%%time\n",
    "companies = {}\n",
    "path = r'C:\\kursovaya\\companies'\n",
    "for filename in os.listdir(path):\n",
    "    with open(os.path.join(path, filename), \"r\") as file:\n",
    "        companies[filename[:-4]] = [line.split(\",\") for line in file.read().splitlines()[1:]]"
   ]
  },
  {
   "cell_type": "markdown",
   "metadata": {},
   "source": [
    "### Таблица торговых дней"
   ]
  },
  {
   "cell_type": "code",
   "execution_count": 4,
   "metadata": {},
   "outputs": [
    {
     "name": "stdout",
     "output_type": "stream",
     "text": [
      "╒════════════════╤════════╤════════╤════════╤════════╤════════╤════════╕\n",
      "│ Company name   │   2014 │   2015 │   2016 │   2017 │   2018 │   2019 │\n",
      "╞════════════════╪════════╪════════╪════════╪════════╪════════╪════════╡\n",
      "│ AAPL           │    252 │    252 │    252 │    251 │    251 │    252 │\n",
      "├────────────────┼────────┼────────┼────────┼────────┼────────┼────────┤\n",
      "│ ADBE           │    252 │    252 │    252 │    251 │    251 │    252 │\n",
      "├────────────────┼────────┼────────┼────────┼────────┼────────┼────────┤\n",
      "│ AMZN           │    252 │    252 │    252 │    251 │    251 │    252 │\n",
      "├────────────────┼────────┼────────┼────────┼────────┼────────┼────────┤\n",
      "│ EL             │    252 │    252 │    252 │    251 │    251 │    252 │\n",
      "├────────────────┼────────┼────────┼────────┼────────┼────────┼────────┤\n",
      "│ FB             │    252 │    252 │    252 │    251 │    251 │    252 │\n",
      "├────────────────┼────────┼────────┼────────┼────────┼────────┼────────┤\n",
      "│ MSFT           │    252 │    252 │    252 │    251 │    251 │    252 │\n",
      "├────────────────┼────────┼────────┼────────┼────────┼────────┼────────┤\n",
      "│ NFLX           │    252 │    252 │    252 │    251 │    251 │    252 │\n",
      "├────────────────┼────────┼────────┼────────┼────────┼────────┼────────┤\n",
      "│ NKE            │    252 │    252 │    252 │    251 │    251 │    252 │\n",
      "├────────────────┼────────┼────────┼────────┼────────┼────────┼────────┤\n",
      "│ PEP            │    252 │    252 │    252 │    251 │    251 │    252 │\n",
      "├────────────────┼────────┼────────┼────────┼────────┼────────┼────────┤\n",
      "│ V              │    252 │    252 │    252 │    251 │    251 │    252 │\n",
      "├────────────────┼────────┼────────┼────────┼────────┼────────┼────────┤\n",
      "│ ^GSPC          │    252 │    252 │    252 │    251 │    251 │    252 │\n",
      "╘════════════════╧════════╧════════╧════════╧════════╧════════╧════════╛\n",
      "Wall time: 376 ms\n"
     ]
    }
   ],
   "source": [
    "%%time\n",
    "td_table = []\n",
    "for company in companies:\n",
    "    count = [0] * 6\n",
    "    for day in companies[company]:\n",
    "        count[int(day[0][3]) - 4] += 1\n",
    "    count.insert(0, company)\n",
    "    td_table.append(count)\n",
    "m = np.array(td_table)\n",
    "headers = ['Company name', '2014', '2015', '2016', '2017', '2018', '2019']\n",
    "first_table = tabulate(m, headers, tablefmt=\"fancy_grid\")\n",
    "print(first_table)\n",
    "td_table.insert(0, headers)\n",
    "with xlsxwriter.Workbook('td.xlsx') as workbook:\n",
    "    worksheet = workbook.add_worksheet()\n",
    "    for row_num, data in enumerate(td_table):\n",
    "        worksheet.write_row(row_num, 0, data)"
   ]
  },
  {
   "cell_type": "markdown",
   "metadata": {},
   "source": [
    "### Максимальные относительные скачки вверх и вниз"
   ]
  },
  {
   "cell_type": "code",
   "execution_count": 5,
   "metadata": {},
   "outputs": [
    {
     "name": "stdout",
     "output_type": "stream",
     "text": [
      "\n",
      "MAX FLACT\n",
      "╒════════════════╤════════╤════════╤════════╤════════╤════════╤════════╤════════╕\n",
      "│ Company name   │   2014 │   2015 │   2016 │   2017 │   2018 │   2019 │   Max. │\n",
      "╞════════════════╪════════╪════════╪════════╪════════╪════════╪════════╪════════╡\n",
      "│ AAPL           │ 0.082  │ 0.0574 │ 0.065  │ 0.061  │ 0.0704 │ 0.0683 │ 0.082  │\n",
      "├────────────────┼────────┼────────┼────────┼────────┼────────┼────────┼────────┤\n",
      "│ ADBE           │ 0.09   │ 0.0376 │ 0.0712 │ 0.1224 │ 0.0952 │ 0.0521 │ 0.1224 │\n",
      "├────────────────┼────────┼────────┼────────┼────────┼────────┼────────┼────────┤\n",
      "│ AMZN           │ 0.0557 │ 0.1413 │ 0.0957 │ 0.1322 │ 0.0945 │ 0.0501 │ 0.1413 │\n",
      "├────────────────┼────────┼────────┼────────┼────────┼────────┼────────┼────────┤\n",
      "│ EL             │ 0.0475 │ 0.0809 │ 0.0457 │ 0.0922 │ 0.07   │ 0.1252 │ 0.1252 │\n",
      "├────────────────┼────────┼────────┼────────┼────────┼────────┼────────┼────────┤\n",
      "│ FB             │ 0.141  │ 0.0505 │ 0.1552 │ 0.0425 │ 0.0906 │ 0.1082 │ 0.1552 │\n",
      "├────────────────┼────────┼────────┼────────┼────────┼────────┼────────┼────────┤\n",
      "│ MSFT           │ 0.0394 │ 0.1045 │ 0.0582 │ 0.0641 │ 0.0757 │ 0.0465 │ 0.1045 │\n",
      "├────────────────┼────────┼────────┼────────┼────────┼────────┼────────┼────────┤\n",
      "│ NFLX           │ 0.1648 │ 0.1821 │ 0.1903 │ 0.1354 │ 0.0998 │ 0.0972 │ 0.1903 │\n",
      "├────────────────┼────────┼────────┼────────┼────────┼────────┼────────┼────────┤\n",
      "│ NKE            │ 0.1223 │ 0.0889 │ 0.0384 │ 0.1096 │ 0.1113 │ 0.0469 │ 0.1223 │\n",
      "├────────────────┼────────┼────────┼────────┼────────┼────────┼────────┼────────┤\n",
      "│ PEP            │ 0.0223 │ 0.0318 │ 0.0273 │ 0.0168 │ 0.0476 │ 0.0376 │ 0.0476 │\n",
      "├────────────────┼────────┼────────┼────────┼────────┼────────┼────────┼────────┤\n",
      "│ V              │ 0.1024 │ 0.0555 │ 0.0744 │ 0.0459 │ 0.0698 │ 0.0431 │ 0.1024 │\n",
      "├────────────────┼────────┼────────┼────────┼────────┼────────┼────────┼────────┤\n",
      "│ ^GSPC          │ 0.024  │ 0.039  │ 0.0248 │ 0.0137 │ 0.0496 │ 0.0343 │ 0.0496 │\n",
      "╘════════════════╧════════╧════════╧════════╧════════╧════════╧════════╧════════╛\n",
      "MIN FLACT\n",
      "╒════════════════╤═════════╤═════════╤═════════╤═════════╤═════════╤═════════╤═════════╕\n",
      "│ Company name   │    2014 │    2015 │    2016 │    2017 │    2018 │    2019 │    Max. │\n",
      "╞════════════════╪═════════╪═════════╪═════════╪═════════╪═════════╪═════════╪═════════╡\n",
      "│ AAPL           │ -0.0799 │ -0.0612 │ -0.0657 │ -0.0388 │ -0.0663 │ -0.0996 │ -0.0996 │\n",
      "├────────────────┼─────────┼─────────┼─────────┼─────────┼─────────┼─────────┼─────────┤\n",
      "│ ADBE           │ -0.0485 │ -0.0583 │ -0.0829 │ -0.0617 │ -0.0804 │ -0.0455 │ -0.0829 │\n",
      "├────────────────┼─────────┼─────────┼─────────┼─────────┼─────────┼─────────┼─────────┤\n",
      "│ AMZN           │ -0.11   │ -0.0629 │ -0.0761 │ -0.0354 │ -0.0782 │ -0.0538 │ -0.11   │\n",
      "├────────────────┼─────────┼─────────┼─────────┼─────────┼─────────┼─────────┼─────────┤\n",
      "│ EL             │ -0.0554 │ -0.0678 │ -0.055  │ -0.0272 │ -0.0851 │ -0.0474 │ -0.0851 │\n",
      "├────────────────┼─────────┼─────────┼─────────┼─────────┼─────────┼─────────┼─────────┤\n",
      "│ FB             │ -0.0693 │ -0.0498 │ -0.0581 │ -0.045  │ -0.1896 │ -0.0751 │ -0.1896 │\n",
      "├────────────────┼─────────┼─────────┼─────────┼─────────┼─────────┼─────────┼─────────┤\n",
      "│ MSFT           │ -0.0397 │ -0.0925 │ -0.0717 │ -0.0377 │ -0.0543 │ -0.0368 │ -0.0925 │\n",
      "├────────────────┼─────────┼─────────┼─────────┼─────────┼─────────┼─────────┼─────────┤\n",
      "│ NFLX           │ -0.1937 │ -0.0829 │ -0.1313 │ -0.0554 │ -0.094  │ -0.1027 │ -0.1937 │\n",
      "├────────────────┼─────────┼─────────┼─────────┼─────────┼─────────┼─────────┼─────────┤\n",
      "│ NKE            │ -0.0512 │ -0.0484 │ -0.0499 │ -0.0705 │ -0.0681 │ -0.0661 │ -0.0705 │\n",
      "├────────────────┼─────────┼─────────┼─────────┼─────────┼─────────┼─────────┼─────────┤\n",
      "│ PEP            │ -0.0255 │ -0.0459 │ -0.0373 │ -0.0207 │ -0.0372 │ -0.0279 │ -0.0459 │\n",
      "├────────────────┼─────────┼─────────┼─────────┼─────────┼─────────┼─────────┼─────────┤\n",
      "│ V              │ -0.05   │ -0.0494 │ -0.0527 │ -0.0309 │ -0.0484 │ -0.0482 │ -0.0527 │\n",
      "├────────────────┼─────────┼─────────┼─────────┼─────────┼─────────┼─────────┼─────────┤\n",
      "│ ^GSPC          │ -0.0228 │ -0.0394 │ -0.0359 │ -0.0182 │ -0.041  │ -0.0298 │ -0.041  │\n",
      "╘════════════════╧═════════╧═════════╧═════════╧═════════╧═════════╧═════════╧═════════╛\n",
      "Wall time: 104 ms\n"
     ]
    }
   ],
   "source": [
    "%%time\n",
    "headers = ['Company name', '2014', '2015', '2016', '2017', '2018', '2019', 'Max.']\n",
    "max_table = []\n",
    "min_table = []\n",
    "for company in companies:\n",
    "    flact = {}\n",
    "    min_diff = []\n",
    "    max_diff = []\n",
    "    for day in companies[company]:\n",
    "        if day[0][:4] not in flact.keys():\n",
    "            flact[day[0][:4]] = [float(day[-2])]\n",
    "        else:\n",
    "            flact[day[0][:4]].append(float(day[-2]))\n",
    "    for year in flact:\n",
    "        diff_list = []\n",
    "        for x, y in zip(flact[year][0::], flact[year][1::]):\n",
    "            diff_list.append(round((y - x) / x, 4))\n",
    "        min_diff.append(min(diff_list))\n",
    "        max_diff.append(max(diff_list))\n",
    "    min_diff.append(min(min_diff))\n",
    "    min_diff.insert(0, company)\n",
    "    max_diff.append(max(max_diff))\n",
    "    max_table.append(max_diff)\n",
    "    max_diff.insert(0, company)\n",
    "    min_table.append(min_diff)\n",
    "print()\n",
    "print(\"MAX FLACT\")\n",
    "m = np.array(max_table)\n",
    "max_t = tabulate(m, headers, tablefmt=\"fancy_grid\")\n",
    "print(max_t)\n",
    "print(\"MIN FLACT\")\n",
    "m = np.array(min_table)\n",
    "min_t = tabulate(m, headers, tablefmt=\"fancy_grid\")\n",
    "print(min_t)"
   ]
  },
  {
   "cell_type": "markdown",
   "metadata": {},
   "source": [
    "### График компании NFLX"
   ]
  },
  {
   "cell_type": "code",
   "execution_count": 6,
   "metadata": {},
   "outputs": [
    {
     "name": "stdout",
     "output_type": "stream",
     "text": [
      "Wall time: 179 ms\n"
     ]
    },
    {
     "data": {
      "image/png": "[encoded data removed]",
      "text/plain": [
       "<Figure size 1440x720 with 1 Axes>"
      ]
     },
     "metadata": {
      "needs_background": "light"
     },
     "output_type": "display_data"
    }
   ],
   "source": [
    "%%time\n",
    "ydata = []\n",
    "xdata = []\n",
    "\n",
    "for x in companies[\"NFLX\"]:\n",
    "    ydata.append(float(x[-2]))\n",
    "    year = int(x[0][0:4])\n",
    "    if x[0][4:6].startswith(\"0\"):\n",
    "        month = int(x[0][6:7])\n",
    "    else:\n",
    "        month = int(x[0][5:7])\n",
    "    if x[0][-2:].startswith(\"0\"):\n",
    "        day = int(x[0][-1])\n",
    "    else:\n",
    "        day = int(x[0][-2:])\n",
    "    d = dt.datetime(year, month, day)\n",
    "    xdata.append(d)\n",
    "xdata_float = matplotlib.dates.date2num(xdata)\n",
    "fig,ax = subplots(figsize = (20,10))\n",
    "pylab.plot_date(xdata_float, ydata, fmt=\"b-\",color = 'mediumslateblue', linewidth =2)  "
   ]
  },
  {
   "cell_type": "markdown",
   "metadata": {},
   "source": [
    "### Отдельные квантили распределения статистики критерия Стьюдента"
   ]
  },
  {
   "cell_type": "code",
   "execution_count": 7,
   "metadata": {},
   "outputs": [
    {
     "name": "stdout",
     "output_type": "stream",
     "text": [
      "  Levels\t  Year\t  Semester\t  Quarter\n",
      "    0.01\t-2.351\t    -2.338\t   -2.36\n",
      "    0.02\t-2.084\t    -2.056\t   -2.072\n",
      "    0.03\t-1.927\t    -1.893\t   -1.912\n",
      "    0.04\t-1.794\t    -1.756\t   -1.781\n",
      "    0.05\t-1.696\t    -1.652\t   -1.676\n",
      "    0.06\t-1.613\t    -1.546\t   -1.586\n",
      "    0.07\t-1.524\t    -1.48 \t   -1.512\n",
      "    0.08\t-1.442\t    -1.413\t   -1.436\n",
      "    0.09\t-1.377\t    -1.355\t   -1.372\n",
      "    0.1 \t-1.32 \t    -1.292\t   -1.308\n",
      "    0.11\t-1.262\t    -1.23 \t   -1.245\n",
      "    0.12\t-1.204\t    -1.183\t   -1.193\n",
      "    0.13\t-1.152\t    -1.138\t   -1.143\n",
      "    0.14\t-1.107\t    -1.095\t   -1.101\n",
      "    0.15\t-1.061\t    -1.046\t   -1.056\n",
      "    0.16\t-1.022\t    -0.997\t   -1.014\n",
      "    0.17\t-0.981\t    -0.957\t   -0.979\n",
      "    0.18\t-0.941\t    -0.915\t   -0.939\n",
      "    0.19\t-0.899\t    -0.872\t   -0.9\n",
      "    0.2 \t-0.859\t    -0.841\t   -0.862\n",
      "    0.21\t-0.825\t    -0.806\t   -0.825\n",
      "    0.22\t-0.793\t    -0.77 \t   -0.79\n",
      "    0.23\t-0.757\t    -0.74 \t   -0.751\n",
      "    0.24\t-0.719\t    -0.71 \t   -0.718\n",
      "    0.25\t-0.691\t    -0.682\t   -0.683\n",
      "    0.26\t-0.66 \t    -0.657\t   -0.652\n",
      "    0.27\t-0.63 \t    -0.623\t   -0.619\n",
      "    0.28\t-0.601\t    -0.595\t   -0.585\n",
      "    0.29\t-0.569\t    -0.563\t   -0.553\n",
      "    0.3 \t-0.538\t    -0.531\t   -0.522\n",
      "    0.31\t-0.508\t    -0.496\t   -0.493\n",
      "    0.32\t-0.48 \t    -0.467\t   -0.463\n",
      "    0.33\t-0.447\t    -0.437\t   -0.437\n",
      "    0.34\t-0.421\t    -0.408\t   -0.408\n",
      "    0.35\t-0.395\t    -0.38 \t   -0.387\n",
      "    0.36\t-0.369\t    -0.353\t   -0.362\n",
      "    0.37\t-0.347\t    -0.326\t   -0.335\n",
      "    0.38\t-0.319\t    -0.302\t   -0.31\n",
      "    0.39\t-0.294\t    -0.274\t   -0.285\n",
      "    0.4 \t-0.266\t    -0.25 \t   -0.254\n",
      "    0.41\t-0.241\t    -0.224\t   -0.228\n",
      "    0.42\t-0.216\t    -0.198\t   -0.2\n",
      "    0.43\t-0.189\t    -0.177\t   -0.167\n",
      "    0.44\t-0.164\t    -0.149\t   -0.146\n",
      "    0.45\t-0.139\t    -0.119\t   -0.124\n",
      "    0.46\t-0.11 \t    -0.091\t   -0.102\n",
      "    0.47\t-0.083\t    -0.064\t   -0.075\n",
      "    0.48\t-0.059\t    -0.041\t   -0.049\n",
      "    0.49\t-0.031\t    -0.012\t   -0.024\n",
      "    0.5 \t-0.009\t     0.01 \t    0\n",
      "Wall time: 2min 1s\n"
     ]
    }
   ],
   "source": [
    "%%time\n",
    "M = 10000\n",
    "n = [252, 126, 63]\n",
    "quantiles = []\n",
    "for i in range(1, 1000):\n",
    "    quantiles.append(i/1000)\n",
    "t_stud = []\n",
    "for k in n:\n",
    "    tt = []\n",
    "    pp = []\n",
    "    quan = []\n",
    "    for i in range(M):\n",
    "        X = np.array(st.norm.rvs(size=k))\n",
    "        Y = np.array(st.norm.rvs(size=k))\n",
    "        Mx = statistics.mean(X)\n",
    "        My = statistics.mean(Y)\n",
    "        sum1 = 0\n",
    "        sum2 = 0\n",
    "        sum3 = 0\n",
    "        for ind in range(len(X)):\n",
    "            sum1 += (X[ind] - Mx) * (Y[ind] - My)\n",
    "            sum2 += (X[ind] - Mx) ** 2\n",
    "            sum3 += (Y[ind] - My) ** 2\n",
    "        cor = sum1 / math.sqrt(sum2 * sum3)\n",
    "        t = cor * ((k - 2) / (1 - (cor ** 2))) ** 0.5\n",
    "        tt.append(t)\n",
    "    for num in range(len(quantiles)):\n",
    "        quan.append(round(np.quantile(np.array(tt), np.array(quantiles[num])), 3))\n",
    "    t_stud.append(quan)\n",
    "table = []\n",
    "for i in range(len(t_stud[1])):\n",
    "    list = [quantiles[i]]\n",
    "    for period in t_stud:\n",
    "        list.append(period[i])\n",
    "    table.append(list)\n",
    "final_table = []\n",
    "for i in range(51):\n",
    "    final_table.append(table[10 * i - 1])\n",
    "final_table.pop(0)\n",
    "headers = [\"Levels\", \"Year\", \"Semester\", \"Quarter\"]\n",
    "m = np.array(final_table)\n",
    "q_table = tabulate(m, headers, tablefmt=\"tsv\")\n",
    "print(q_table)\n",
    "table.insert(0, headers)\n",
    "with xlsxwriter.Workbook('quantiles.xlsx') as workbook:\n",
    "    worksheet = workbook.add_worksheet()\n",
    "    for row_num, data in enumerate(table):\n",
    "        worksheet.write_row(row_num, 0, data)"
   ]
  },
  {
   "cell_type": "markdown",
   "metadata": {},
   "source": [
    "### Гистограмма P-значений для модельных данных"
   ]
  },
  {
   "cell_type": "code",
   "execution_count": 71,
   "metadata": {},
   "outputs": [
    {
     "name": "stdout",
     "output_type": "stream",
     "text": [
      "0.523 < 1.36 => hypothesis accepted for α = 0.05\n"
     ]
    },
    {
     "data": {
      "image/png": "[encoded data removed]",
      "text/plain": [
       "<Figure size 432x288 with 1 Axes>"
      ]
     },
     "metadata": {
      "needs_background": "light"
     },
     "output_type": "display_data"
    },
    {
     "name": "stdout",
     "output_type": "stream",
     "text": [
      "Wall time: 5.19 s\n"
     ]
    }
   ],
   "source": [
    "%%time\n",
    "M = 1000\n",
    "n = 252\n",
    "q = []\n",
    "wb = xlrd.open_workbook(\"quantiles.xlsx\")\n",
    "sheet = wb.sheet_by_index(0)\n",
    "for i in range(sheet.nrows):\n",
    "    q.append(sheet.cell_value(i, 1))\n",
    "q.pop(0)\n",
    "q = [float(i) for i in q]\n",
    "p_values = []\n",
    "tt = []\n",
    "for i in range(M):\n",
    "    X = np.array(st.norm.rvs(size=n))\n",
    "    Y = np.array(st.norm.rvs(size=n))\n",
    "    Mx = statistics.mean(X)\n",
    "    My = statistics.mean(Y)\n",
    "    sum1 = 0\n",
    "    sum2 = 0\n",
    "    sum3 = 0\n",
    "    for ind in range(len(X)):\n",
    "        sum1 += (X[ind] - Mx) * (Y[ind] - My)\n",
    "        sum2 += (X[ind] - Mx) ** 2\n",
    "        sum3 += (Y[ind] - My) ** 2\n",
    "    cor = sum1 / math.sqrt(sum2 * sum3)\n",
    "    t = cor * ((n - 2) / (1 - (cor ** 2))) ** 0.5\n",
    "    tt.append(t)\n",
    "for t in tt:\n",
    "    p_values.append(2 * (1 - st.t.cdf(t, n-2, loc=0, scale=1)))\n",
    "pp1 = sorted(p_values)\n",
    "u_crit = 1.36\n",
    "u = st.kstest(p_values, 'uniform', alternative=\"two-sided\")[0]\n",
    "if u < u_crit:\n",
    "    print(str(u) + \" < \" + str(u_crit) + \" => hypothesis accepted for α = 0.05\")\n",
    "if u > u_crit:\n",
    "    print(str(u) + \" < \" + str(u_crit) + \"=> hypothesis denied for α = 0.05\")\n",
    "xl = [i/100 for i in range(0, 100, 10)]\n",
    "y = []\n",
    "for i in xl:\n",
    "    c = 0\n",
    "    for j in pp1:\n",
    "        if i <= j <= i + 0.1:\n",
    "            c += 1\n",
    "    y.append(c)\n",
    "plt.bar(xl, y, 0.08, color='teal')\n",
    "plt.xticks(xl)\n",
    "plt.show()"
   ]
  },
  {
   "cell_type": "markdown",
   "metadata": {},
   "source": [
    "### Оценка мощности критерия Стьюдента"
   ]
  },
  {
   "cell_type": "code",
   "execution_count": 17,
   "metadata": {},
   "outputs": [
    {
     "name": "stdout",
     "output_type": "stream",
     "text": [
      "╒═══════════════╤══════════════════════╤════════╤════════════╤═══════════╕\n",
      "│   Correlation │   Significance level │   Year │   Semester │   Quarter │\n",
      "╞═══════════════╪══════════════════════╪════════╪════════════╪═══════════╡\n",
      "│          -0.1 │                 0.05 │  0.361 │      0.21  │     0.121 │\n",
      "├───────────────┼──────────────────────┼────────┼────────────┼───────────┤\n",
      "│           0.2 │                 0.05 │  0.896 │      0.622 │     0.352 │\n",
      "╘═══════════════╧══════════════════════╧════════╧════════════╧═══════════╛\n",
      "Wall time: 3min 39s\n"
     ]
    }
   ],
   "source": [
    "%%time\n",
    "M = 10000\n",
    "n = [252, 126, 63]\n",
    "q = [[], [], []]\n",
    "p = [-0.1, 0.2]\n",
    "wb = xlrd.open_workbook(\"quantiles.xlsx\")\n",
    "sheet = wb.sheet_by_index(0)\n",
    "for i in range(sheet.nrows):\n",
    "    q[0].append(sheet.cell_value(i, 1))\n",
    "    q[1].append(sheet.cell_value(i, 2))\n",
    "    q[2].append(sheet.cell_value(i, 3))\n",
    "for i in q:\n",
    "    i.pop(0)\n",
    "    i = [float(l) for l in i]\n",
    "t_cr = []\n",
    "for i in q:\n",
    "    t_cr.append(i[-25])\n",
    "tt = []\n",
    "for k in p:\n",
    "    alt = [k, 0.05]\n",
    "    for l in range(len(n)):\n",
    "        count = 0\n",
    "        for i in range(M):\n",
    "            X = np.array(st.norm.rvs(size=n[l]))\n",
    "            Z = np.array(st.norm.rvs(size=n[l]))\n",
    "            Y = []\n",
    "            for num in range(n[l]):\n",
    "                Y.append(k * X[num] + Z[num] * (1 - k ** 2) ** 0.5)\n",
    "            Y = np.array(Y)\n",
    "            Mx = statistics.mean(X)\n",
    "            My = statistics.mean(Y)\n",
    "            sum1 = 0\n",
    "            sum2 = 0\n",
    "            sum3 = 0\n",
    "            for ind in range(len(X)):\n",
    "                sum1 += (X[ind] - Mx) * (Y[ind] - My)\n",
    "                sum2 += (X[ind] - Mx) ** 2\n",
    "                sum3 += (Y[ind] - My) ** 2\n",
    "            cor = sum1 / math.sqrt(sum2 * sum3)\n",
    "            t = cor * (((n[l] - 2) / (1 - (cor ** 2))) ** 0.5)\n",
    "            if abs(t) > t_cr[l]:\n",
    "                count += 1\n",
    "        alt.append(round((count/M), 3))\n",
    "    tt.append(alt)\n",
    "headers = [\"Correlation\", \"Significance level\", \"Year\", \"Semester\", \"Quarter\"]\n",
    "m = np.array(tt)\n",
    "q_table = tabulate(m, headers, tablefmt=\"fancy_grid\")\n",
    "print(q_table)"
   ]
  },
  {
   "cell_type": "markdown",
   "metadata": {},
   "source": [
    "### Матрица коэффициентов корреляции"
   ]
  },
  {
   "cell_type": "code",
   "execution_count": 22,
   "metadata": {},
   "outputs": [
    {
     "name": "stdout",
     "output_type": "stream",
     "text": [
      "Wall time: 304 ms\n"
     ]
    },
    {
     "data": {
      "image/png": "[encoded data removed]",
      "text/plain": [
       "<Figure size 432x288 with 2 Axes>"
      ]
     },
     "metadata": {
      "needs_background": "light"
     },
     "output_type": "display_data"
    }
   ],
   "source": [
    "%%time\n",
    "log_inc1 = {}\n",
    "for com in companies:\n",
    "    count=[]\n",
    "    for i in range(1,1510):\n",
    "        log = math.log(float(companies[com][i][-2]) / float(companies[com][i - 1][-2]), math.exp(1))\n",
    "        year_digit = int(companies[com][i][0][3])\n",
    "        count.append(log)\n",
    "    log_inc1[com] = count\n",
    "for key in log_inc1:\n",
    "    if key not in headers:\n",
    "        headers.append(key)\n",
    "df = pd.DataFrame(log_inc1, columns=headers)\n",
    "corrMatrix = df.corr() \n",
    "sn.heatmap(corrMatrix, annot=True)  "
   ]
  },
  {
   "cell_type": "markdown",
   "metadata": {},
   "source": [
    "### P-значения реальных данных за год"
   ]
  },
  {
   "cell_type": "code",
   "execution_count": 54,
   "metadata": {},
   "outputs": [
    {
     "name": "stdout",
     "output_type": "stream",
     "text": [
      "╒═══════════╤═════════════╤═════════════╤═════════════╤═════════════╤═════════════╤═════════════╕\n",
      "│ Company   │        2014 │        2015 │        2016 │        2017 │        2018 │        2019 │\n",
      "╞═══════════╪═════════════╪═════════════╪═════════════╪═════════════╪═════════════╪═════════════╡\n",
      "│ AAPL      │ 1.01896e-12 │ 0           │ 0           │ 0           │ 0           │ 0           │\n",
      "├───────────┼─────────────┼─────────────┼─────────────┼─────────────┼─────────────┼─────────────┤\n",
      "│ ADBE      │ 0           │ 0           │ 0           │ 3.83866e-11 │ 0           │ 0           │\n",
      "├───────────┼─────────────┼─────────────┼─────────────┼─────────────┼─────────────┼─────────────┤\n",
      "│ AMZN      │ 0           │ 0           │ 2.22045e-16 │ 4.02678e-12 │ 0           │ 0           │\n",
      "├───────────┼─────────────┼─────────────┼─────────────┼─────────────┼─────────────┼─────────────┤\n",
      "│ EL        │ 0           │ 0           │ 0           │ 2.54857e-05 │ 0           │ 0           │\n",
      "├───────────┼─────────────┼─────────────┼─────────────┼─────────────┼─────────────┼─────────────┤\n",
      "│ FB        │ 0           │ 0           │ 0           │ 0           │ 0           │ 0           │\n",
      "├───────────┼─────────────┼─────────────┼─────────────┼─────────────┼─────────────┼─────────────┤\n",
      "│ MSFT      │ 0           │ 0           │ 0           │ 0           │ 0           │ 0           │\n",
      "├───────────┼─────────────┼─────────────┼─────────────┼─────────────┼─────────────┼─────────────┤\n",
      "│ NFLX      │ 1.52249e-07 │ 8.23119e-13 │ 9.61087e-10 │ 3.04912e-12 │ 0           │ 0           │\n",
      "├───────────┼─────────────┼─────────────┼─────────────┼─────────────┼─────────────┼─────────────┤\n",
      "│ NKE       │ 0           │ 0           │ 0           │ 0.000566759 │ 0           │ 0           │\n",
      "├───────────┼─────────────┼─────────────┼─────────────┼─────────────┼─────────────┼─────────────┤\n",
      "│ PEP       │ 2.22045e-16 │ 0           │ 0           │ 0.000200269 │ 1.58897e-11 │ 8.88178e-16 │\n",
      "├───────────┼─────────────┼─────────────┼─────────────┼─────────────┼─────────────┼─────────────┤\n",
      "│ V         │ 0           │ 0           │ 0           │ 0           │ 0           │ 0           │\n",
      "╘═══════════╧═════════════╧═════════════╧═════════════╧═════════════╧═════════════╧═════════════╛\n",
      "Wall time: 913 ms\n"
     ]
    }
   ],
   "source": [
    "%%time\n",
    "log_inc = {}\n",
    "for com in companies:\n",
    "    count = [[], [], [], [], [], []]\n",
    "    for i in range(1, len(companies[com])):\n",
    "        log = math.log(float(companies[com][i][-2]) / float(companies[com][i - 1][-2]), math.exp(1))\n",
    "        year_digit = int(companies[com][i][0][3])\n",
    "        count[year_digit - 4].append(log)\n",
    "    log_inc[com] = count\n",
    "index = log_inc['^GSPC']\n",
    "p_values = []\n",
    "for com in log_inc:\n",
    "    if com == '^GSPC':\n",
    "        continue\n",
    "    tt = []\n",
    "    pv = []\n",
    "    for i in range(len(log_inc[com])):\n",
    "        X = np.array(log_inc[com][i][:250])\n",
    "        Y = np.array(index[i][:250])\n",
    "        n = len(X)\n",
    "        Mx = statistics.mean(X)\n",
    "        My = statistics.mean(Y)\n",
    "        sum1 = 0\n",
    "        sum2 = 0\n",
    "        sum3 = 0\n",
    "        for ind in range(len(X)):\n",
    "            sum1 += (X[ind] - Mx) * (Y[ind] - My)\n",
    "            sum2 += (X[ind] - Mx) ** 2\n",
    "            sum3 += (Y[ind] - My) ** 2\n",
    "        cor = sum1 / math.sqrt(sum2 * sum3)\n",
    "        t = cor * ((n - 2) / (1 - (cor ** 2))) ** 0.5\n",
    "        tt.append(t)\n",
    "    for t in tt:\n",
    "        pv.append(2 * (1 - st.t.cdf(t, 250, loc=0, scale=1)))\n",
    "    pv.insert(0, com)\n",
    "    p_values.append(pv)\n",
    "headers = [\"Company\", \"2014\", \"2015\", \"2016\", \"2017\", \"2018\", \"2019\"]\n",
    "if not os.path.isfile('year.xlsx'):\n",
    "    p_values.insert(0, headers)\n",
    "    with xlsxwriter.Workbook('year.xlsx') as workbook:\n",
    "        worksheet = workbook.add_worksheet()\n",
    "        for row_num, data in enumerate(p_values):\n",
    "            worksheet.write_row(row_num, 0, data)\n",
    "    p_values.pop(0)\n",
    "m = np.array(p_values)\n",
    "q_table = tabulate(m, headers, tablefmt=\"fancy_grid\")\n",
    "print(q_table)"
   ]
  },
  {
   "cell_type": "markdown",
   "metadata": {},
   "source": [
    "### Гистограмма P-значений для реальных данных за год"
   ]
  },
  {
   "cell_type": "code",
   "execution_count": 39,
   "metadata": {},
   "outputs": [
    {
     "data": {
      "image/png": "[encoded data removed]",
      "text/plain": [
       "<Figure size 432x288 with 1 Axes>"
      ]
     },
     "metadata": {
      "needs_background": "light"
     },
     "output_type": "display_data"
    },
    {
     "name": "stdout",
     "output_type": "stream",
     "text": [
      "Wall time: 530 ms\n"
     ]
    }
   ],
   "source": [
    "%%time\n",
    "p_values = [i[1:] for i in p_values]\n",
    "p_v = []\n",
    "for i in p_values:\n",
    "    for j in i:\n",
    "        p_v.append(j)\n",
    "xl = [i/100 for i in range(0, 100, 10)]\n",
    "y = []\n",
    "pp1 = sorted(p_v)\n",
    "for i in xl:\n",
    "    c = 0\n",
    "    for j in pp1:\n",
    "        if i <= j <= i + 0.1:\n",
    "            c += 1\n",
    "    y.append(c)\n",
    "plt.bar(xl, y, 0.08, color='turquoise')\n",
    "plt.xticks(xl)\n",
    "plt.show()"
   ]
  },
  {
   "cell_type": "markdown",
   "metadata": {},
   "source": [
    "### Проверка для реальных данных за год"
   ]
  },
  {
   "cell_type": "code",
   "execution_count": 40,
   "metadata": {},
   "outputs": [
    {
     "name": "stdout",
     "output_type": "stream",
     "text": [
      "╒══════════════════╤══════════════════╕\n",
      "│   1% sign. level │   5% sign. level │\n",
      "╞══════════════════╪══════════════════╡\n",
      "│                0 │                0 │\n",
      "╘══════════════════╧══════════════════╛\n",
      "Wall time: 3.81 ms\n"
     ]
    }
   ],
   "source": [
    "%%time\n",
    "sl1 = 0.01\n",
    "sl2 = 0.05\n",
    "k1 = 0\n",
    "k2 = 0\n",
    "for value in p_v:\n",
    "    if value > sl1:\n",
    "        k1 += 1\n",
    "    if value > sl2:\n",
    "        k2 += 1\n",
    "sign = [[round((k1 / len(p_v)), 3), round((k2 / len(p_v)), 3)]]\n",
    "headers = [\"1% sign. level\", \"5% sign. level\"]\n",
    "if not os.path.isfile('yearsign.xlsx'):\n",
    "    sign.insert(0, headers)\n",
    "    with xlsxwriter.Workbook('yearsign.xlsx') as workbook:\n",
    "        worksheet = workbook.add_worksheet()\n",
    "        for row_num, data in enumerate(sign):\n",
    "            worksheet.write_row(row_num, 0, data)\n",
    "m = np.array(sign)\n",
    "q_table = tabulate(m, headers, tablefmt=\"fancy_grid\")\n",
    "print(q_table)"
   ]
  },
  {
   "cell_type": "markdown",
   "metadata": {},
   "source": [
    "### Р-значения для реальных данных за второе полугодие"
   ]
  },
  {
   "cell_type": "code",
   "execution_count": 55,
   "metadata": {},
   "outputs": [
    {
     "name": "stdout",
     "output_type": "stream",
     "text": [
      "╒═══════════╤═════════════╤════════════╤═════════════╤═════════════╤═════════════╤═════════════╕\n",
      "│ Company   │        2014 │       2015 │        2016 │        2017 │        2018 │        2019 │\n",
      "╞═══════════╪═════════════╪════════════╪═════════════╪═════════════╪═════════════╪═════════════╡\n",
      "│ AAPL      │ 4.88498e-15 │ 0          │ 9.28592e-06 │ 2.10527e-11 │ 0           │ 0           │\n",
      "├───────────┼─────────────┼────────────┼─────────────┼─────────────┼─────────────┼─────────────┤\n",
      "│ ADBE      │ 4.87158e-10 │ 0          │ 2.66454e-15 │ 3.07056e-05 │ 0           │ 0           │\n",
      "├───────────┼─────────────┼────────────┼─────────────┼─────────────┼─────────────┼─────────────┤\n",
      "│ AMZN      │ 1.40992e-07 │ 0          │ 5.2105e-12  │ 2.00715e-08 │ 0           │ 0           │\n",
      "├───────────┼─────────────┼────────────┼─────────────┼─────────────┼─────────────┼─────────────┤\n",
      "│ EL        │ 7.32747e-15 │ 0          │ 5.60741e-10 │ 0.0143571   │ 4.44089e-16 │ 1.26676e-12 │\n",
      "├───────────┼─────────────┼────────────┼─────────────┼─────────────┼─────────────┼─────────────┤\n",
      "│ FB        │ 9.22951e-12 │ 0          │ 3.8012e-10  │ 1.55955e-09 │ 2.06502e-10 │ 0           │\n",
      "├───────────┼─────────────┼────────────┼─────────────┼─────────────┼─────────────┼─────────────┤\n",
      "│ MSFT      │ 5.9952e-15  │ 0          │ 5.32907e-15 │ 4.52971e-14 │ 0           │ 0           │\n",
      "├───────────┼─────────────┼────────────┼─────────────┼─────────────┼─────────────┼─────────────┤\n",
      "│ NFLX      │ 9.16722e-05 │ 2.0006e-09 │ 0.00238245  │ 4.97155e-06 │ 0           │ 7.27451e-08 │\n",
      "├───────────┼─────────────┼────────────┼─────────────┼─────────────┼─────────────┼─────────────┤\n",
      "│ NKE       │ 1.34698e-10 │ 0          │ 2.86946e-07 │ 0.0231788   │ 0           │ 0           │\n",
      "├───────────┼─────────────┼────────────┼─────────────┼─────────────┼─────────────┼─────────────┤\n",
      "│ PEP       │ 5.11174e-10 │ 0          │ 1.43709e-07 │ 0.03308     │ 5.68297e-05 │ 2.4345e-12  │\n",
      "├───────────┼─────────────┼────────────┼─────────────┼─────────────┼─────────────┼─────────────┤\n",
      "│ V         │ 4.44089e-16 │ 0          │ 1.77636e-15 │ 3.16477e-10 │ 0           │ 0           │\n",
      "╘═══════════╧═════════════╧════════════╧═════════════╧═════════════╧═════════════╧═════════════╛\n",
      "Wall time: 471 ms\n"
     ]
    }
   ],
   "source": [
    "%%time\n",
    "log_inc = {}\n",
    "for com in companies:\n",
    "    count = [[], [], [], [], [], []]\n",
    "    for i in range(1, len(companies[com])):\n",
    "        if int(companies[com][i][0][6]) >= 7 or int(companies[com][i][0][5]) == 1:\n",
    "            log = math.log(float(companies[com][i][-2]) / float(companies[com][i - 1][-2]), math.exp(1))\n",
    "            year_digit = int(companies[com][i][0][3])\n",
    "            count[year_digit - 4].append(log)\n",
    "    log_inc[com] = count\n",
    "index = log_inc['^GSPC']\n",
    "p_values = []\n",
    "for com in log_inc:\n",
    "    if com == '^GSPC':\n",
    "        continue\n",
    "    tt = []\n",
    "    pv = []\n",
    "    for i in range(len(log_inc[com])):\n",
    "        X = np.array(log_inc[com][i][:126])\n",
    "        Y = np.array(index[i][:126])\n",
    "        n = len(X)\n",
    "        Mx = statistics.mean(X)\n",
    "        My = statistics.mean(Y)\n",
    "        sum1 = 0\n",
    "        sum2 = 0\n",
    "        sum3 = 0\n",
    "        for ind in range(len(X)):\n",
    "            sum1 += (X[ind] - Mx) * (Y[ind] - My)\n",
    "            sum2 += (X[ind] - Mx) ** 2\n",
    "            sum3 += (Y[ind] - My) ** 2\n",
    "        cor = sum1 / math.sqrt(sum2 * sum3)\n",
    "        t = cor * ((n - 2) / (1 - (cor ** 2))) ** 0.5\n",
    "        tt.append(t)\n",
    "    for t in tt:\n",
    "        pv.append(2 * (1 - st.t.cdf(t, 250, loc=0, scale=1)))\n",
    "    pv.insert(0, com)\n",
    "    p_values.append(pv)\n",
    "headers = [\"Company\", \"2014\", \"2015\", \"2016\", \"2017\", \"2018\", \"2019\"]\n",
    "p_values.pop(0)\n",
    "m = np.array(p_values)\n",
    "q_table = tabulate(m, headers, tablefmt=\"fancy_grid\")\n",
    "print(q_table)"
   ]
  },
  {
   "cell_type": "markdown",
   "metadata": {},
   "source": [
    "### Гистограмма Р-значений для реальных данных за второе полугодие"
   ]
  },
  {
   "cell_type": "code",
   "execution_count": 45,
   "metadata": {},
   "outputs": [
    {
     "data": {
      "image/png": "[encoded data removed]",
      "text/plain": [
       "<Figure size 432x288 with 1 Axes>"
      ]
     },
     "metadata": {
      "needs_background": "light"
     },
     "output_type": "display_data"
    },
    {
     "name": "stdout",
     "output_type": "stream",
     "text": [
      "Wall time: 393 ms\n"
     ]
    }
   ],
   "source": [
    "%%time\n",
    "p_values = [i[1:] for i in p_values]\n",
    "p_v = []\n",
    "for i in p_values:\n",
    "    for j in i:\n",
    "        p_v.append(j)\n",
    "xl = [i/100 for i in range(0, 100, 10)]\n",
    "y = []\n",
    "pp1 = sorted(p_v)\n",
    "for i in xl:\n",
    "    c = 0\n",
    "    for j in pp1:\n",
    "        if i <= j <= i + 0.1:\n",
    "            c += 1\n",
    "    y.append(c)\n",
    "plt.bar(xl, y, 0.08, color='steelblue')\n",
    "plt.xticks(xl)\n",
    "plt.show()"
   ]
  },
  {
   "cell_type": "markdown",
   "metadata": {},
   "source": [
    "### Доля проверок для реальных данных за второе полугодие"
   ]
  },
  {
   "cell_type": "code",
   "execution_count": 43,
   "metadata": {},
   "outputs": [
    {
     "name": "stdout",
     "output_type": "stream",
     "text": [
      "╒══════════════════╤══════════════════╕\n",
      "│   1% sign. level │   5% sign. level │\n",
      "╞══════════════════╪══════════════════╡\n",
      "│            0.056 │                0 │\n",
      "╘══════════════════╧══════════════════╛\n",
      "Wall time: 1.08 ms\n"
     ]
    }
   ],
   "source": [
    "%%time\n",
    "sl1 = 0.01\n",
    "sl2 = 0.05\n",
    "k1 = 0\n",
    "k2 = 0\n",
    "for value in p_v:\n",
    "    if value > sl1:\n",
    "        k1 += 1\n",
    "    if value > sl2:\n",
    "        k2 += 1\n",
    "sign = [[round((k1 / len(p_v)), 3), round((k2 / len(p_v)), 3)]]\n",
    "headers = [\"1% sign. level\", \"5% sign. level\"]\n",
    "m = np.array(sign)\n",
    "q_table = tabulate(m, headers, tablefmt=\"fancy_grid\")\n",
    "print(q_table)"
   ]
  },
  {
   "cell_type": "markdown",
   "metadata": {},
   "source": [
    "### Р-значения для реальных данных за четвертый квартал"
   ]
  },
  {
   "cell_type": "code",
   "execution_count": 56,
   "metadata": {},
   "outputs": [
    {
     "name": "stdout",
     "output_type": "stream",
     "text": [
      "╒═══════════╤═════════════╤═════════════╤═════════════╤═════════════╤═════════════╤═════════════╕\n",
      "│ Company   │        2014 │        2015 │        2016 │        2017 │        2018 │        2019 │\n",
      "╞═══════════╪═════════════╪═════════════╪═════════════╪═════════════╪═════════════╪═════════════╡\n",
      "│ AAPL      │ 3.30258e-06 │ 2.1401e-10  │ 0.000976147 │ 2.02473e-05 │ 0           │ 7.42295e-13 │\n",
      "├───────────┼─────────────┼─────────────┼─────────────┼─────────────┼─────────────┼─────────────┤\n",
      "│ ADBE      │ 2.44249e-13 │ 9.87817e-09 │ 1.85526e-08 │ 0.0284976   │ 0           │ 8.80981e-07 │\n",
      "├───────────┼─────────────┼─────────────┼─────────────┼─────────────┼─────────────┼─────────────┤\n",
      "│ AMZN      │ 0.000430509 │ 5.42455e-12 │ 4.60398e-08 │ 0.0001873   │ 0           │ 7.97504e-11 │\n",
      "├───────────┼─────────────┼─────────────┼─────────────┼─────────────┼─────────────┼─────────────┤\n",
      "│ EL        │ 3.13597e-06 │ 6.00919e-12 │ 1.18582e-05 │ 0.281479    │ 8.88082e-07 │ 0.00117981  │\n",
      "├───────────┼─────────────┼─────────────┼─────────────┼─────────────┼─────────────┼─────────────┤\n",
      "│ FB        │ 4.2961e-06  │ 1.32218e-08 │ 4.30291e-06 │ 1.92192e-05 │ 1.20877e-10 │ 7.20417e-10 │\n",
      "├───────────┼─────────────┼─────────────┼─────────────┼─────────────┼─────────────┼─────────────┤\n",
      "│ MSFT      │ 1.16129e-13 │ 2.93321e-13 │ 2.66057e-09 │ 8.31664e-07 │ 0           │ 0           │\n",
      "├───────────┼─────────────┼─────────────┼─────────────┼─────────────┼─────────────┼─────────────┤\n",
      "│ NFLX      │ 0.0197375   │ 0.0027687   │ 0.0104224   │ 5.17512e-05 │ 0           │ 0.000930647 │\n",
      "├───────────┼─────────────┼─────────────┼─────────────┼─────────────┼─────────────┼─────────────┤\n",
      "│ NKE       │ 5.88448e-05 │ 1.34931e-05 │ 0.000368655 │ 1.41927     │ 2.22045e-16 │ 0.00011757  │\n",
      "├───────────┼─────────────┼─────────────┼─────────────┼─────────────┼─────────────┼─────────────┤\n",
      "│ PEP       │ 0.000276583 │ 2.44249e-14 │ 2.42506e-05 │ 0.132434    │ 0.0551846   │ 0.0031545   │\n",
      "├───────────┼─────────────┼─────────────┼─────────────┼─────────────┼─────────────┼─────────────┤\n",
      "│ V         │ 8.46543e-08 │ 4.84057e-14 │ 7.13793e-09 │ 8.00787e-06 │ 0           │ 6.38759e-07 │\n",
      "╘═══════════╧═════════════╧═════════════╧═════════════╧═════════════╧═════════════╧═════════════╛\n",
      "Wall time: 540 ms\n"
     ]
    }
   ],
   "source": [
    "%%time\n",
    "log_inc = {}\n",
    "for com in companies:\n",
    "    count = [[], [], [], [], [], []]\n",
    "    for i in range(1, len(companies[com])):\n",
    "        if int(companies[com][i][0][6]) >= 9 or int(companies[com][i][0][5]) == 1:\n",
    "            log = math.log(float(companies[com][i][-2]) / float(companies[com][i - 1][-2]), math.exp(1))\n",
    "            year_digit = int(companies[com][i][0][3])\n",
    "            count[year_digit - 4].append(log)\n",
    "    log_inc[com] = count\n",
    "index = log_inc['^GSPC']\n",
    "p_values = []\n",
    "for com in log_inc:\n",
    "    if com == '^GSPC':\n",
    "        continue\n",
    "    tt = []\n",
    "    pv = []\n",
    "    for i in range(len(log_inc[com])):\n",
    "        X = np.array(log_inc[com][i][:63])\n",
    "        Y = np.array(index[i][:63])\n",
    "        n = len(X)\n",
    "        Mx = statistics.mean(X)\n",
    "        My = statistics.mean(Y)\n",
    "        sum1 = 0\n",
    "        sum2 = 0\n",
    "        sum3 = 0\n",
    "        for ind in range(len(X)):\n",
    "            sum1 += (X[ind] - Mx) * (Y[ind] - My)\n",
    "            sum2 += (X[ind] - Mx) ** 2\n",
    "            sum3 += (Y[ind] - My) ** 2\n",
    "        cor = sum1 / math.sqrt(sum2 * sum3)\n",
    "        t = cor * ((n - 2) / (1 - (cor ** 2))) ** 0.5\n",
    "        tt.append(t)\n",
    "    for t in tt:\n",
    "        pv.append(2 * (1 - st.t.cdf(t, 250, loc=0, scale=1)))\n",
    "    pv.insert(0, com)\n",
    "    p_values.append(pv)\n",
    "headers = [\"Company\", \"2014\", \"2015\", \"2016\", \"2017\", \"2018\", \"2019\"]\n",
    "p_values.pop(0)\n",
    "m = np.array(p_values)\n",
    "q_table = tabulate(m, headers, tablefmt=\"fancy_grid\")\n",
    "print(q_table)"
   ]
  },
  {
   "cell_type": "markdown",
   "metadata": {},
   "source": [
    "### Доля проверок для реальных данных за четвёртый квартал"
   ]
  },
  {
   "cell_type": "code",
   "execution_count": 49,
   "metadata": {},
   "outputs": [
    {
     "name": "stdout",
     "output_type": "stream",
     "text": [
      "╒══════════════════╤══════════════════╕\n",
      "│   1% sign. level │   5% sign. level │\n",
      "╞══════════════════╪══════════════════╡\n",
      "│            0.056 │                0 │\n",
      "╘══════════════════╧══════════════════╛\n",
      "Wall time: 2.99 ms\n"
     ]
    }
   ],
   "source": [
    "%%time\n",
    "sl1 = 0.01\n",
    "sl2 = 0.05\n",
    "k1 = 0\n",
    "k2 = 0\n",
    "for value in p_v:\n",
    "    if value > sl1:\n",
    "        k1 += 1\n",
    "    if value > sl2:\n",
    "        k2 += 1\n",
    "sign = [[round((k1 / len(p_v)), 3), round((k2 / len(p_v)), 3)]]\n",
    "headers = [\"1% sign. level\", \"5% sign. level\"]\n",
    "m = np.array(sign)\n",
    "q_table = tabulate(m, headers, tablefmt=\"fancy_grid\")\n",
    "print(q_table)"
   ]
  },
  {
   "cell_type": "markdown",
   "metadata": {},
   "source": [
    "### Гистограмма P-значений для реальных данных за четвёртый квартал"
   ]
  },
  {
   "cell_type": "code",
   "execution_count": 50,
   "metadata": {},
   "outputs": [
    {
     "data": {
      "image/png": "[encoded data removed]",
      "text/plain": [
       "<Figure size 432x288 with 1 Axes>"
      ]
     },
     "metadata": {
      "needs_background": "light"
     },
     "output_type": "display_data"
    },
    {
     "name": "stdout",
     "output_type": "stream",
     "text": [
      "Wall time: 342 ms\n"
     ]
    }
   ],
   "source": [
    "%%time\n",
    "p_values = [i[1:] for i in p_values]\n",
    "p_v = []\n",
    "for i in p_values:\n",
    "    for j in i:\n",
    "        p_v.append(j)\n",
    "xl = [i/100 for i in range(0, 100, 10)]\n",
    "y = []\n",
    "pp1 = sorted(p_v)\n",
    "for i in xl:\n",
    "    c = 0\n",
    "    for j in pp1:\n",
    "        if i <= j <= i + 0.1:\n",
    "            c += 1\n",
    "    y.append(c)\n",
    "plt.bar(xl, y, 0.08, color='lightskyblue')\n",
    "plt.xticks(xl)\n",
    "plt.show()"
   ]
  },
  {
   "cell_type": "markdown",
   "metadata": {},
   "source": [
    "### Медианные P-значения по годам"
   ]
  },
  {
   "cell_type": "code",
   "execution_count": 51,
   "metadata": {},
   "outputs": [
    {
     "name": "stdout",
     "output_type": "stream",
     "text": [
      "╒════════╤════════════╕\n",
      "│   Year │   p-values │\n",
      "╞════════╪════════════╡\n",
      "│   2014 │          0 │\n",
      "├────────┼────────────┤\n",
      "│   2015 │          0 │\n",
      "├────────┼────────────┤\n",
      "│   2016 │          0 │\n",
      "├────────┼────────────┤\n",
      "│   2017 │          0 │\n",
      "├────────┼────────────┤\n",
      "│   2018 │          0 │\n",
      "├────────┼────────────┤\n",
      "│   2019 │          0 │\n",
      "╘════════╧════════════╛\n",
      "Wall time: 57.8 ms\n"
     ]
    }
   ],
   "source": [
    "%%time\n",
    "wb = xlrd.open_workbook(\"year.xlsx\")\n",
    "sheet = wb.sheet_by_index(0)\n",
    "q = []\n",
    "for i in range(sheet.nrows):\n",
    "    year = []\n",
    "    for j in range(7):\n",
    "        year.append(sheet.cell_value(i, j))\n",
    "    year.pop(0)\n",
    "    q.append(year)\n",
    "q.pop(0)\n",
    "year_medians = []\n",
    "for i in range(6):\n",
    "    year = []\n",
    "    y = 2014+i\n",
    "    for com in q:\n",
    "        year.append(com[i])\n",
    "    year_medians.append([y, statistics.median(year)])\n",
    "headers = [\"Year\", \"p-values\"]\n",
    "m = np.array(year_medians)\n",
    "q_table = tabulate(m, headers, tablefmt=\"fancy_grid\")\n",
    "print(q_table)"
   ]
  },
  {
   "cell_type": "markdown",
   "metadata": {},
   "source": [
    "### Медианные P-значения по компаниям"
   ]
  },
  {
   "cell_type": "code",
   "execution_count": 52,
   "metadata": {},
   "outputs": [
    {
     "name": "stdout",
     "output_type": "stream",
     "text": [
      "╒═══════════╤════════════╕\n",
      "│ Company   │   p-values │\n",
      "╞═══════════╪════════════╡\n",
      "│ AAPL      │          0 │\n",
      "├───────────┼────────────┤\n",
      "│ ADBE      │          0 │\n",
      "├───────────┼────────────┤\n",
      "│ AMZN      │          0 │\n",
      "├───────────┼────────────┤\n",
      "│ EL        │          0 │\n",
      "├───────────┼────────────┤\n",
      "│ FB        │          0 │\n",
      "├───────────┼────────────┤\n",
      "│ MSFT      │          0 │\n",
      "├───────────┼────────────┤\n",
      "│ NFLX      │          0 │\n",
      "├───────────┼────────────┤\n",
      "│ NKE       │          0 │\n",
      "├───────────┼────────────┤\n",
      "│ PEP       │          0 │\n",
      "├───────────┼────────────┤\n",
      "│ V         │          0 │\n",
      "├───────────┼────────────┤\n",
      "│ ^GSPC     │          0 │\n",
      "╘═══════════╧════════════╛\n",
      "Wall time: 19.9 ms\n"
     ]
    }
   ],
   "source": [
    "%%time\n",
    "wb = xlrd.open_workbook(\"year.xlsx\")\n",
    "sheet = wb.sheet_by_index(0)\n",
    "q = []\n",
    "for i in range(sheet.nrows):\n",
    "    year = []\n",
    "    for j in range(6):\n",
    "        year.append(sheet.cell_value(i, j))\n",
    "    q.append(year)\n",
    "q.pop(0)\n",
    "company_medians = []\n",
    "for com in q:\n",
    "    med = [com[0], statistics.median(com[1:])]\n",
    "    company_medians.append(med)\n",
    "headers = [\"Company\", \"p-values\"]\n",
    "m = np.array(company_medians)\n",
    "q_table = tabulate(m, headers, tablefmt=\"fancy_grid\")\n",
    "print(q_table)"
   ]
  }
 ],
 "metadata": {
  "kernelspec": {
   "display_name": "Python 3",
   "language": "python",
   "name": "python3"
  },
  "language_info": {
   "codemirror_mode": {
    "name": "ipython",
    "version": 3
   },
   "file_extension": ".py",
   "mimetype": "text/x-python",
   "name": "python",
   "nbconvert_exporter": "python",
   "pygments_lexer": "ipython3",
   "version": "3.8.3"
  }
 },
 "nbformat": 4,
 "nbformat_minor": 2
}
